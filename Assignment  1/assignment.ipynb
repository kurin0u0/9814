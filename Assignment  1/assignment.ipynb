{
 "cells": [
  {
   "cell_type": "markdown",
   "id": "22cfb0ca",
   "metadata": {},
   "source": [
    "# 4 Task A: Individual Neural Networks for Each Forecast Horizon"
   ]
  },
  {
   "cell_type": "markdown",
   "id": "e2cce6ad",
   "metadata": {},
   "source": [
    "## 4.1 Data Preparation"
   ]
  },
  {
   "cell_type": "code",
   "execution_count": 10,
   "id": "23b4704f",
   "metadata": {},
   "outputs": [],
   "source": [
    "import pandas as pd\n",
    "import numpy as np\n",
    "from sklearn.preprocessing import StandardScaler\n",
    "from sklearn.model_selection import train_test_split\n",
    "import torch\n",
    "from torch.utils.data import TensorDataset, DataLoader, random_split\n",
    "import torch.optim as optim\n",
    "import joblib\n",
    "import random\n",
    "import matplotlib.pyplot as plt\n",
    "import torch.nn as nn"
   ]
  },
  {
   "cell_type": "markdown",
   "id": "ac2aff69",
   "metadata": {},
   "source": [
    "### (a) Load the data from Nino3.4 data.csv"
   ]
  },
  {
   "cell_type": "code",
   "execution_count": 2,
   "id": "60539d76",
   "metadata": {},
   "outputs": [],
   "source": [
    "data = pd.read_csv(\"Nino3.4_data.csv\")"
   ]
  },
  {
   "cell_type": "markdown",
   "id": "b5088056",
   "metadata": {},
   "source": [
    "### (b) Read test years from test years.csv. Extract all data rows from step (a) that match these test years to create your test set. This test data must remain untouched during training. You should use this test set to evaluate your model’s performance and report results"
   ]
  },
  {
   "cell_type": "code",
   "execution_count": 3,
   "id": "375a9f5f",
   "metadata": {},
   "outputs": [],
   "source": [
    "test_years = pd.read_csv(\"test_years.csv\")[\"year\"].tolist()"
   ]
  },
  {
   "cell_type": "markdown",
   "id": "34f51b0d",
   "metadata": {},
   "source": [
    "### (c) Subset your test data based on the test years, then randomly partition the remainingdataset into training and validation sets. Choose an appropriate split ratio that ensures sufficient data for both training and validation."
   ]
  },
  {
   "cell_type": "code",
   "execution_count": 4,
   "id": "acaecf4a",
   "metadata": {},
   "outputs": [],
   "source": [
    "test_data = data[data[\"year\"].isin(test_years)].reset_index(drop=True)\n",
    "train_val_data = data[~data[\"year\"].isin(test_years)].reset_index(drop=True)\n",
    "\n",
    "# 在剩余数据中随机划分训练集与验证集\n",
    "train_data, val_data = train_test_split(train_val_data, test_size=0.2, random_state=42, shuffle=True)"
   ]
  },
  {
   "cell_type": "markdown",
   "id": "36c9f95c",
   "metadata": {},
   "source": [
    "### (d) Pre-processing: Apply scaling transformations to the input features (nino tminus2, nino tminus1, nino t). Scaling the target variables (nino tplus1 through nino tplus6) is optional - if you choose to scale them, save the target scalers for inverse transformation during evaluation. Apply the same transformations to the validation set.\n",
    "\n",
    "Optional: You might also consider creating additional features from the month column. For example, some students find it helpful to encode the cyclical nature of months using sine and cosine transformations: sin(2π × month/12) and cos(2π × month/12). This can help the model understand that December is adjacent to January.\n",
    "\n",
    "Note: Save your scaler objects for later use (e.g., using pickle or joblib)."
   ]
  },
  {
   "cell_type": "code",
   "execution_count": 9,
   "id": "f3eb2771",
   "metadata": {},
   "outputs": [
    {
     "name": "stdout",
     "output_type": "stream",
     "text": [
      "Train size: 584\n",
      "Val size: 146\n",
      "Test size: 72\n"
     ]
    }
   ],
   "source": [
    "# 输入特征与目标列\n",
    "input_features = [\"nino_tminus2\", \"nino_tminus1\", \"nino_t\"]\n",
    "target_features = [\"nino_tplus1\", \"nino_tplus2\", \"nino_tplus3\", \"nino_tplus4\", \"nino_tplus5\", \"nino_tplus6\"]\n",
    "\n",
    "# 可选：添加月份的正弦余弦特征\n",
    "for df in [train_data, val_data, test_data]:\n",
    "    df[\"month_sin\"] = np.sin(2 * np.pi * df[\"month\"] / 12)\n",
    "    df[\"month_cos\"] = np.cos(2 * np.pi * df[\"month\"] / 12)\n",
    "\n",
    "    # 将它们加入输入特征中\n",
    "    df.reset_index(drop=True, inplace=True)\n",
    "\n",
    "input_features_extended = input_features + [\"month_sin\", \"month_cos\"]\n",
    "\n",
    "# 缩放输入特征\n",
    "scaler_X = StandardScaler()\n",
    "train_X_scaled = scaler_X.fit_transform(train_data[input_features_extended])\n",
    "val_X_scaled = scaler_X.transform(val_data[input_features_extended])\n",
    "test_X_scaled = scaler_X.transform(test_data[input_features_extended])\n",
    "\n",
    "# 可选：缩放目标变量\n",
    "scale_targets = True  # ← 如果不希望缩放，改成 False\n",
    "if scale_targets:\n",
    "    scaler_y = StandardScaler()\n",
    "    train_y_scaled = scaler_y.fit_transform(train_data[target_features])\n",
    "    val_y_scaled = scaler_y.transform(val_data[target_features])\n",
    "    test_y_scaled = scaler_y.transform(test_data[target_features])\n",
    "else:\n",
    "    train_y_scaled = train_data[target_features].values\n",
    "    val_y_scaled = val_data[target_features].values\n",
    "    test_y_scaled = test_data[target_features].values\n",
    "    scaler_y = None\n",
    "\n",
    "# 保存缩放器以供后续反缩放或预测使用\n",
    "joblib.dump(scaler_X, \"scaler_X.pkl\")\n",
    "if scaler_y:\n",
    "    joblib.dump(scaler_y, \"scaler_y.pkl\")\n",
    "\n",
    "# ---------- 转换为 PyTorch 张量 ----------\n",
    "train_X = torch.tensor(train_X_scaled, dtype=torch.float32)\n",
    "val_X = torch.tensor(val_X_scaled, dtype=torch.float32)\n",
    "test_X = torch.tensor(test_X_scaled, dtype=torch.float32)\n",
    "\n",
    "train_y = torch.tensor(train_y_scaled, dtype=torch.float32)\n",
    "val_y = torch.tensor(val_y_scaled, dtype=torch.float32)\n",
    "test_y = torch.tensor(test_y_scaled, dtype=torch.float32)\n",
    "\n",
    "# ---------- 创建 TensorDataset ----------\n",
    "train_dataset = TensorDataset(train_X, train_y)\n",
    "val_dataset = TensorDataset(val_X, val_y)\n",
    "test_dataset = TensorDataset(test_X, test_y)\n",
    "\n",
    "# 示例：构建 DataLoader\n",
    "train_loader = DataLoader(train_dataset, batch_size=32, shuffle=True)\n",
    "val_loader = DataLoader(val_dataset, batch_size=32, shuffle=False)\n",
    "test_loader = DataLoader(test_dataset, batch_size=32, shuffle=False)\n",
    "\n",
    "print(\"Train size:\", len(train_dataset))\n",
    "print(\"Val size:\", len(val_dataset))\n",
    "print(\"Test size:\", len(test_dataset))"
   ]
  },
  {
   "cell_type": "markdown",
   "id": "628b4416",
   "metadata": {},
   "source": [
    "### (e) Train a neural network that predicts the Ni˜no3.4 index of the next month, i.e.nino tplus1 using reasonable hyperparameters. Ensure reproducibility by setting a seed throughout your code. Plot the training and validation loss curves across epochs.\n",
    "Note: Save your trained models in a format appropriate for your chosen framework. Common formats include .keras, .h5, .pth, .pt, or .onnx. Ensure your models can be loaded during evaluation"
   ]
  },
  {
   "cell_type": "code",
   "execution_count": 11,
   "id": "c4f4e888",
   "metadata": {},
   "outputs": [
    {
     "name": "stdout",
     "output_type": "stream",
     "text": [
      "Epoch [10/100] | Train Loss: 0.110973 | Val Loss: 0.099633\n",
      "Epoch [20/100] | Train Loss: 0.091432 | Val Loss: 0.087669\n",
      "Epoch [30/100] | Train Loss: 0.089785 | Val Loss: 0.083977\n",
      "Epoch [40/100] | Train Loss: 0.081442 | Val Loss: 0.084006\n",
      "Epoch [50/100] | Train Loss: 0.078977 | Val Loss: 0.085558\n",
      "Epoch [60/100] | Train Loss: 0.078705 | Val Loss: 0.085200\n",
      "Epoch [70/100] | Train Loss: 0.073643 | Val Loss: 0.087020\n",
      "Epoch [80/100] | Train Loss: 0.078852 | Val Loss: 0.084263\n",
      "Epoch [90/100] | Train Loss: 0.066640 | Val Loss: 0.082509\n",
      "Epoch [100/100] | Train Loss: 0.070873 | Val Loss: 0.081227\n"
     ]
    },
    {
     "data": {
      "image/png": "[encoded data removed]",
      "text/plain": [
       "<Figure size 800x500 with 1 Axes>"
      ]
     },
     "metadata": {},
     "output_type": "display_data"
    },
    {
     "name": "stdout",
     "output_type": "stream",
     "text": [
      "模型已保存为 nino_model_next_month.pth\n"
     ]
    }
   ],
   "source": [
    "# ---------- 设置随机种子以确保可复现性 ----------\n",
    "seed = 42\n",
    "torch.manual_seed(seed)\n",
    "np.random.seed(seed)\n",
    "random.seed(seed)\n",
    "\n",
    "# 如果有GPU\n",
    "device = torch.device(\"cuda\" if torch.cuda.is_available() else \"cpu\")\n",
    "\n",
    "# ---------- 只使用目标 nino tplus1 ----------\n",
    "train_y1 = train_y[:, 0].unsqueeze(1)  # (N, 1)\n",
    "val_y1 = val_y[:, 0].unsqueeze(1)\n",
    "\n",
    "train_dataset_1 = torch.utils.data.TensorDataset(train_X, train_y1)\n",
    "val_dataset_1 = torch.utils.data.TensorDataset(val_X, val_y1)\n",
    "\n",
    "train_loader = torch.utils.data.DataLoader(train_dataset_1, batch_size=32, shuffle=True)\n",
    "val_loader = torch.utils.data.DataLoader(val_dataset_1, batch_size=32, shuffle=False)\n",
    "\n",
    "# ---------- 定义神经网络 ----------\n",
    "class NinoNet(nn.Module):\n",
    "    def __init__(self, input_dim):\n",
    "        super(NinoNet, self).__init__()\n",
    "        self.model = nn.Sequential(\n",
    "            nn.Linear(input_dim, 64),\n",
    "            nn.ReLU(),\n",
    "            nn.Dropout(0.2),\n",
    "            nn.Linear(64, 32),\n",
    "            nn.ReLU(),\n",
    "            nn.Linear(32, 1)\n",
    "        )\n",
    "\n",
    "    def forward(self, x):\n",
    "        return self.model(x)\n",
    "\n",
    "input_dim = train_X.shape[1]\n",
    "model = NinoNet(input_dim).to(device)\n",
    "\n",
    "# ---------- 定义损失函数和优化器 ----------\n",
    "criterion = nn.MSELoss()\n",
    "optimizer = optim.Adam(model.parameters(), lr=1e-3, weight_decay=1e-5)\n",
    "\n",
    "# ---------- 训练循环 ----------\n",
    "num_epochs = 100\n",
    "train_losses, val_losses = [], []\n",
    "\n",
    "for epoch in range(num_epochs):\n",
    "    # 训练模式\n",
    "    model.train()\n",
    "    total_train_loss = 0\n",
    "    for X_batch, y_batch in train_loader:\n",
    "        X_batch, y_batch = X_batch.to(device), y_batch.to(device)\n",
    "\n",
    "        optimizer.zero_grad()\n",
    "        outputs = model(X_batch)\n",
    "        loss = criterion(outputs, y_batch)\n",
    "        loss.backward()\n",
    "        optimizer.step()\n",
    "\n",
    "        total_train_loss += loss.item() * X_batch.size(0)\n",
    "\n",
    "    avg_train_loss = total_train_loss / len(train_loader.dataset)\n",
    "\n",
    "    # 验证模式\n",
    "    model.eval()\n",
    "    total_val_loss = 0\n",
    "    with torch.no_grad():\n",
    "        for X_batch, y_batch in val_loader:\n",
    "            X_batch, y_batch = X_batch.to(device), y_batch.to(device)\n",
    "            outputs = model(X_batch)\n",
    "            loss = criterion(outputs, y_batch)\n",
    "            total_val_loss += loss.item() * X_batch.size(0)\n",
    "\n",
    "    avg_val_loss = total_val_loss / len(val_loader.dataset)\n",
    "\n",
    "    train_losses.append(avg_train_loss)\n",
    "    val_losses.append(avg_val_loss)\n",
    "\n",
    "    if (epoch + 1) % 10 == 0:\n",
    "        print(f\"Epoch [{epoch+1}/{num_epochs}] | Train Loss: {avg_train_loss:.6f} | Val Loss: {avg_val_loss:.6f}\")\n",
    "\n",
    "# ---------- 绘制训练与验证损失曲线 ----------\n",
    "plt.figure(figsize=(8,5))\n",
    "plt.plot(train_losses, label=\"Training Loss\")\n",
    "plt.plot(val_losses, label=\"Validation Loss\")\n",
    "plt.xlabel(\"Epoch\")\n",
    "plt.ylabel(\"MSE Loss\")\n",
    "plt.title(\"Training and Validation Loss over Epochs\")\n",
    "plt.legend()\n",
    "plt.grid(True)\n",
    "plt.show()\n",
    "\n",
    "# ---------- 保存模型 ----------\n",
    "torch.save(model.state_dict(), \"nino_model_next_month.pth\")\n",
    "print(\"模型已保存为 nino_model_next_month.pth\")"
   ]
  },
  {
   "cell_type": "markdown",
   "id": "fa6422f6",
   "metadata": {},
   "source": [
    "### (f) Repeat (e) for the subsequent months, i.e., nino_tplus2, nino_tplus3,.. nino_tplus6. Together with part (e), this will give you six trained networks and six plots for training and validation loss, shown in one Figure"
   ]
  },
  {
   "cell_type": "code",
   "execution_count": null,
   "id": "b902487a",
   "metadata": {},
   "outputs": [],
   "source": [
    "# ---------- 训练函数 ----------\n",
    "def train_single_horizon(horizon_index, epochs=100, lr=1e-3, batch_size=32):\n",
    "    # 目标列索引\n",
    "    y_train_h = train_y[:, horizon_index].unsqueeze(1)\n",
    "    y_val_h = val_y[:, horizon_index].unsqueeze(1)\n",
    "\n",
    "    # 数据加载\n",
    "    train_dataset = TensorDataset(train_X, y_train_h)\n",
    "    val_dataset = TensorDataset(val_X, y_val_h)\n",
    "    train_loader = DataLoader(train_dataset, batch_size=batch_size, shuffle=True)\n",
    "    val_loader = DataLoader(val_dataset, batch_size=batch_size, shuffle=False)\n",
    "\n",
    "    # 模型定义\n",
    "    model = NinoNet(train_X.shape[1]).to(device)\n",
    "    optimizer = optim.Adam(model.parameters(), lr=lr, weight_decay=1e-5)\n",
    "    criterion = nn.MSELoss()\n",
    "\n",
    "    # 记录损失\n",
    "    train_losses, val_losses = [], []\n",
    "\n",
    "    for epoch in range(epochs):\n",
    "        model.train()\n",
    "        total_train_loss = 0\n",
    "        for Xb, yb in train_loader:\n",
    "            Xb, yb = Xb.to(device), yb.to(device)\n",
    "            optimizer.zero_grad()\n",
    "            out = model(Xb)\n",
    "            loss = criterion(out, yb)\n",
    "            loss.backward()\n",
    "            optimizer.step()\n",
    "            total_train_loss += loss.item() * Xb.size(0)\n",
    "\n",
    "        avg_train_loss = total_train_loss / len(train_loader.dataset)\n",
    "\n",
    "        model.eval()\n",
    "        total_val_loss = 0\n",
    "        with torch.no_grad():\n",
    "            for Xb, yb in val_loader:\n",
    "                Xb, yb = Xb.to(device), yb.to(device)\n",
    "                out = model(Xb)\n",
    "                loss = criterion(out, yb)\n",
    "                total_val_loss += loss.item() * Xb.size(0)\n",
    "        avg_val_loss = total_val_loss / len(val_loader.dataset)\n",
    "\n",
    "        train_losses.append(avg_train_loss)\n",
    "        val_losses.append(avg_val_loss)\n",
    "\n",
    "    # 绘图\n",
    "    plt.figure(figsize=(4,3))\n",
    "    plt.plot(train_losses, label=\"Training Loss\", color=\"steelblue\")\n",
    "    plt.plot(val_losses, label=\"Validation Loss\", color=\"orchid\")\n",
    "    plt.xlabel(\"Training Epoch\")\n",
    "    plt.ylabel(\"MSE Loss\")\n",
    "    plt.title(f\"Horizon: {horizon_index+1} Month\")\n",
    "    plt.legend()\n",
    "    plt.grid(True)\n",
    "    plt.tight_layout()\n",
    "    plt.show()"
   ]
  }
 ],
 "metadata": {
  "kernelspec": {
   "display_name": "comp_9814",
   "language": "python",
   "name": "python3"
  },
  "language_info": {
   "codemirror_mode": {
    "name": "ipython",
    "version": 3
   },
   "file_extension": ".py",
   "mimetype": "text/x-python",
   "name": "python",
   "nbconvert_exporter": "python",
   "pygments_lexer": "ipython3",
   "version": "3.10.18"
  }
 },
 "nbformat": 4,
 "nbformat_minor": 5
}
