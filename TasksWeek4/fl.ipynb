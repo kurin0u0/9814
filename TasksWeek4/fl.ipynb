{
 "cells": [
  {
   "cell_type": "code",
   "execution_count": 9,
   "id": "d38a02f2",
   "metadata": {},
   "outputs": [
    {
     "name": "stdout",
     "output_type": "stream",
     "text": [
      "finish\n",
      "[[0.73509189 0.77378094 0.6983373  0.73509189]\n",
      " [0.73509189 0.         0.66340364 0.69833727]\n",
      " [0.69833652 0.42141696 0.         0.37305976]\n",
      " [0.53066248 0.         0.         0.        ]\n",
      " [0.77378094 0.81450625 0.         0.73509189]\n",
      " [0.         0.         0.         0.        ]\n",
      " [0.         0.90249554 0.         0.52889367]\n",
      " [0.         0.         0.         0.        ]\n",
      " [0.81450625 0.         0.857375   0.77378094]\n",
      " [0.81450625 0.9025     0.9025     0.        ]\n",
      " [0.85656096 0.95       0.         0.85728065]\n",
      " [0.         0.         0.         0.        ]\n",
      " [0.         0.         0.         0.        ]\n",
      " [0.         0.9025     0.95       0.857375  ]\n",
      " [0.9025     0.95       1.         0.9025    ]\n",
      " [0.         0.         0.         0.        ]]\n"
     ]
    }
   ],
   "source": [
    "import gymnasium as gym\n",
    "import numpy as np\n",
    "\n",
    "env=gym.make(\"FrozenLake-v1\",render_mode=\"rgb_array\", is_slippery=False)\n",
    "n_states = env.observation_space.n\n",
    "n_actions = env.action_space.n\n",
    "\n",
    "Q =np.zeros((n_states,n_actions))\n",
    "\n",
    "alpha = 0.8\n",
    "gamma = 0.95\n",
    "epsilon =1.0\n",
    "epsilon_min =0.01\n",
    "epsilon_decay = 0.995\n",
    "epsodes = 4000\n",
    "max_steps = 100\n",
    "\n",
    "for ep in range(epsodes):\n",
    "    s,_ =env.reset()\n",
    "    done = False\n",
    "    for _ in range(max_steps):\n",
    "        if np.random.rand()< epsilon:\n",
    "            a = env.action_space.sample()\n",
    "        else:\n",
    "            a =np.argmax(Q[s])\n",
    "        s_next,r,term,trunc,_ = env.step(a)\n",
    "        done = term or trunc\n",
    "\n",
    "        Q[s,a]=Q[s,a]+ alpha * (r + gamma * np.max(Q[s_next])-Q[s,a])\n",
    "\n",
    "        s= s_next\n",
    "        if done:\n",
    "            break\n",
    "    if epsilon > epsilon_min:\n",
    "        epsilon *= epsilon_decay\n",
    "\n",
    "print('finish')\n",
    "print(Q)\n"
   ]
  },
  {
   "cell_type": "code",
   "execution_count": 5,
   "id": "79f7e1a7",
   "metadata": {},
   "outputs": [
    {
     "name": "stdout",
     "output_type": "stream",
     "text": [
      "Collecting pygame\n",
      "  Downloading pygame-2.6.1-cp312-cp312-macosx_11_0_arm64.whl.metadata (12 kB)\n",
      "Downloading pygame-2.6.1-cp312-cp312-macosx_11_0_arm64.whl (12.4 MB)\n",
      "\u001b[2K   \u001b[90m━━━━━━━━━━━━━━━━━━━━━━━━━━━━━━━━━━━━━━━━\u001b[0m \u001b[32m12.4/12.4 MB\u001b[0m \u001b[31m33.8 MB/s\u001b[0m  \u001b[33m0:00:00\u001b[0meta \u001b[36m0:00:01\u001b[0m\n",
      "\u001b[?25hInstalling collected packages: pygame\n",
      "Successfully installed pygame-2.6.1\n"
     ]
    }
   ],
   "source": [
    "! pip install pygame"
   ]
  },
  {
   "cell_type": "code",
   "execution_count": null,
   "id": "b6e8242a",
   "metadata": {},
   "outputs": [
    {
     "name": "stdout",
     "output_type": "stream",
     "text": [
      "1\n",
      "0\n",
      "1\n",
      "0\n",
      "0\n",
      "0.0\n"
     ]
    },
    {
     "ename": "",
     "evalue": "",
     "output_type": "error",
     "traceback": [
      "\u001b[1;31m在当前单元格或上一个单元格中执行代码时 Kernel 崩溃。\n",
      "\u001b[1;31m请查看单元格中的代码，以确定故障的可能原因。\n",
      "\u001b[1;31m单击<a href='https://aka.ms/vscodeJupyterKernelCrash'>此处</a>了解详细信息。\n",
      "\u001b[1;31m有关更多详细信息，请查看 Jupyter <a href='command:jupyter.viewOutput'>log</a>。"
     ]
    }
   ],
   "source": [
    "env = gym.make(\"FrozenLake-v1\",render_mode=\"human\")\n",
    "s, _ = env.reset()\n",
    "done = False\n",
    "total_reward = 0\n",
    "while not done:\n",
    "    a=np.argmax(Q[s])\n",
    "    s,r,term,trunc, _ = env.step(a)\n",
    "    print(a)\n",
    "    total_reward += r\n",
    "    env.render()\n",
    "    done = term or trunc\n",
    "print(total_reward)\n",
    "env.close()"
   ]
  }
 ],
 "metadata": {
  "kernelspec": {
   "display_name": "comp_9814_w4",
   "language": "python",
   "name": "python3"
  },
  "language_info": {
   "codemirror_mode": {
    "name": "ipython",
    "version": 3
   },
   "file_extension": ".py",
   "mimetype": "text/x-python",
   "name": "python",
   "nbconvert_exporter": "python",
   "pygments_lexer": "ipython3",
   "version": "3.12.11"
  }
 },
 "nbformat": 4,
 "nbformat_minor": 5
}
