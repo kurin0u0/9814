{
 "cells": [
  {
   "cell_type": "code",
   "execution_count": null,
   "id": "e484da66",
   "metadata": {},
   "outputs": [],
   "source": [
    "import random\n",
    "TARGET = \"Hello, World!\"\n",
    "POPULATION_SIZE = 100\n",
    "MUTATION_RATE = 0.01\n",
    "GENERATIONS = 1000\n",
    "\n",
    "def generate_individual():\n",
    "    return ''.join(random.choice('abcdefghijklmnopqrstuvwxyzABCDEFGHIJKLMNOPQRSTUVWXYZ ,!') for _ in range(len(TARGET)))\n",
    "\n",
    "def calculate_fitness(individual):\n",
    "    fitness = 0\n",
    "    for i in range(len(TARGET)):\n",
    "        if individual[i] == TARGET[i]:\n",
    "            fitness += 1\n",
    "    return fitness\n",
    "\n",
    "def select_parents(population, fitnesses):\n",
    "    total_fitness = sum(fitnesses)\n",
    "    if total_fitness == 0:\n",
    "        return random.sample(population, 2)\n",
    "    \n",
    "    rnd1=random.uniform(0, total_fitness)\n",
    "    rnd2=random.uniform(0, total_fitness)\n",
    "    parent1 = None\n",
    "    parent2 = None\n",
    "    current_sum = 0\n",
    "    for i, individual in enumerate(population):\n",
    "        current_sum += fitnesses[i]\n",
    "        if parent1 is None and current_sum >= rnd1:\n",
    "            parent1 = individual\n",
    "        if parent2 is None and current_sum >= rnd2:\n",
    "            parent2 = individual\n",
    "        if parent1 is not None and parent2 is not None:\n",
    "            break\n",
    "    return parent1, parent2"
   ]
  }
 ],
 "metadata": {
  "language_info": {
   "name": "python"
  }
 },
 "nbformat": 4,
 "nbformat_minor": 5
}
